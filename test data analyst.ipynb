{
 "cells": [
  {
   "cell_type": "markdown",
   "id": "fe332151",
   "metadata": {},
   "source": [
    "# Scenario:\n",
    "\n",
    "You have an SQLite database called \"company.db\". It has two tables:\n",
    "\n",
    "1 \"employees\" with the following columns: id, name, department_id, salary.\n",
    "\n",
    "2 \"departments\" with the following columns: id, department_name."
   ]
  },
  {
   "cell_type": "markdown",
   "id": "e410b76e",
   "metadata": {},
   "source": [
    "# Task\n",
    "Write a Python script that:"
   ]
  },
  {
   "cell_type": "code",
   "execution_count": 1,
   "id": "22d14636",
   "metadata": {},
   "outputs": [],
   "source": [
    "# 1. Connect to the \"company.db\" SQLite database\n",
    "\n",
    "import sqlite3\n",
    "import pandas as pd\n",
    "\n",
    "\n",
    "conn = sqlite3.connect(\"company.db\")"
   ]
  },
  {
   "cell_type": "code",
   "execution_count": null,
   "id": "c59a896a",
   "metadata": {},
   "outputs": [],
   "source": [
    "# 2. Fetches data from the \"employees\" and \"departments\" tables where the department_name is \"Sales\" and salary is above 50000.\n",
    "\n",
    "query = \"\"\"\n",
    "SELECT employees.name, employees.salary, departments.department_name\n",
    "FROM employees\n",
    "JOIN departments ON employees.department_id = departments.id\n",
    "WHERE departments.department_name = 'Sales' AND employees.salary > 50000\n",
    "\"\"\"\n",
    "df = pd.read_sql_query(query, conn)\n"
   ]
  },
  {
   "cell_type": "code",
   "execution_count": null,
   "id": "ad9e8872",
   "metadata": {},
   "outputs": [],
   "source": [
    "#3 Calculate average and median salary of these employees.\n",
    "\n",
    "average_salary = df['salary'].mean()\n",
    "median_salary = df['salary'].median()\n",
    "\n",
    "print(\"Average Salary:\", average_salary)\n",
    "print(\"Median Salary:\", median_salary)"
   ]
  },
  {
   "cell_type": "code",
   "execution_count": null,
   "id": "21b3bdb5",
   "metadata": {},
   "outputs": [],
   "source": [
    "# 4. Groups the data by department and prints the highest earner in each department.\n",
    "\n",
    "query = '''\n",
    "SELECT d.department_name, e.name, e.salary\n",
    "FROM employees e\n",
    "JOIN departments d ON e.department_id = d.id\n",
    "WHERE e.salary = (\n",
    "  SELECT MAX(salary)\n",
    "  FROM employees\n",
    "  WHERE department_id = e.department_id\n",
    ")\n",
    "ORDER BY d.department_name\n",
    "'''\n",
    "\n",
    "# Execute the query and load the results into a Pandas DataFrame\n",
    "df = pd.read_sql_query(query, conn)\n",
    "\n",
    "# Print the results as a table\n",
    "print(df.to_string(index=False))\n",
    "\n",
    "\n",
    "# or another way for this task\n",
    "\n",
    "highest_earner = df.groupby('department_name')['name', 'salary'].max()\n",
    "print(\"\\nHighest Earner in each Department:\")\n",
    "print(highest_earner)"
   ]
  },
  {
   "cell_type": "code",
   "execution_count": null,
   "id": "11041c87",
   "metadata": {},
   "outputs": [],
   "source": [
    "# 5. Prints the name of the employee who has the highest salary in the entire company.\n",
    "\n",
    "query = '''\n",
    "SELECT name\n",
    "FROM employees\n",
    "WHERE salary = (\n",
    "  SELECT MAX(salary)\n",
    "  FROM employees\n",
    ")\n",
    "'''\n",
    "\n",
    "# Execute the query and load the result into a Pandas DataFrame\n",
    "df = pd.read_sql_query(query, conn)\n",
    "\n",
    "# Print the name of the employee with the highest salary\n",
    "print(\"Employee with the highest salary:\", df['name'][0] if not df.empty else \"No employee found\")\n",
    "\n",
    "# or another way for this task\n",
    "\n",
    "highest_salary_employee = df.loc[df['salary'].idxmax(), 'name']\n",
    "print(\"\\nEmployee with Highest Salary:\", highest_salary_employee)"
   ]
  },
  {
   "cell_type": "code",
   "execution_count": null,
   "id": "d03da3f3",
   "metadata": {},
   "outputs": [],
   "source": [
    "# 6. Save the result to a CSV file\n",
    "\n",
    "df.to_csv('result.csv', index=False)"
   ]
  },
  {
   "cell_type": "code",
   "execution_count": null,
   "id": "9d93d4f2",
   "metadata": {},
   "outputs": [],
   "source": [
    "# Close the database connection\n",
    "conn.close()"
   ]
  }
 ],
 "metadata": {
  "kernelspec": {
   "display_name": "Python 3",
   "language": "python",
   "name": "python3"
  },
  "language_info": {
   "codemirror_mode": {
    "name": "ipython",
    "version": 3
   },
   "file_extension": ".py",
   "mimetype": "text/x-python",
   "name": "python",
   "nbconvert_exporter": "python",
   "pygments_lexer": "ipython3",
   "version": "3.6.15"
  }
 },
 "nbformat": 4,
 "nbformat_minor": 5
}
